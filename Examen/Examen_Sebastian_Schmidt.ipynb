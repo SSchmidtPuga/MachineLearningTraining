{
 "cells": [
  {
   "cell_type": "markdown",
   "metadata": {},
   "source": [
    "\n",
    "1. (10 puntos) Un cliente lo contrata para la evaluaci ́on de c ́omo el salario del cliente afecta su propensi ́on a utilizar la tarjeta de cr ́edito del supermercado. El modelo es un modelo de clasificaci ́on que toma el valor 1 si el cliente ha usado la tarjeta en los u ́ltimos tres meses y cero si no. El analista recomienda que dada la precisi ́on y facilidad del algoritmo, un buen candidato para esto es el m ́etodo del K vecino m ́as cercado. Comente en detalle su recomendaci ́on al respecto.\n"
   ]
  },
  {
   "cell_type": "markdown",
   "metadata": {},
   "source": [
    "Es cierto que para precisión y por facilidad de algoritmo seria recomedable usar el metodo K-vecino, lo que faltaria analizar si extamente queremos saber cual es la variable que mas afecta el uso o no uso de la tarjeta de credito,el k-vecinos, nos servira muchisimo para saber si el cliente usara su tarjeta o no, pero no tendremos la posibilidad de ver realmente cuanto es el monto que genera ese cambio. Entonces si por ejemplo a nosotros como supermercado el uso de la tarjeta de credito nos quita un 2% por comisiones, queremos saber cuales son las variables que mas afectan para que el  cliente usa la tarjeta, para asi realizar una estrategia sobre eso. Si el caso es el mencionado, se podria usar un clasificador con funcion sigmoid, nos hara una clasificación quizas no tan exacta pero tendremos la posibilidad de saber cuanto nos afecta realmente cada variable ."
   ]
  },
  {
   "cell_type": "markdown",
   "metadata": {},
   "source": [
    "2. (5 puntos) El error cu ́adratico medio en problemas de clasificaci ́on no es muy preciso. Para esto, es mejor utilizar la ra ́ız de este como funci ́on de costo, ya que este permite intuitivamente entender la unidad de medida en la estimaci ́on. Comente"
   ]
  },
  {
   "cell_type": "markdown",
   "metadata": {},
   "source": [
    "Para los problemas de clasificación las funciones de costo como no tienen ningun sentido, esto dado que por ejemplo si mi Y=1 , el y_pred = 0 MSE = (1 - 0 ^)^2  = 1, esto no tiene ningun sentido, es por eso que aparece un nuevo modelo de costo llamado Binary Cross Entropy, la cual castigara muchisimo al modelo en el caso que se equivoque y lo premiara mucho si acierta."
   ]
  },
  {
   "cell_type": "markdown",
   "metadata": {},
   "source": [
    "3. (5 puntos) Explique cu ́al es la ventaja que posee el support vector classifier sobre el maximal margin classifier."
   ]
  },
  {
   "cell_type": "markdown",
   "metadata": {},
   "source": [
    "\n",
    "El Support Vector Classifier es creado apartir de el Maximal Margin Classifier y este es mejor dado que es este es menos sencible a los datos unicos o dicho de otra manera el maximal margin classifier es mucho mas duro al tirar el vector"
   ]
  },
  {
   "cell_type": "markdown",
   "metadata": {},
   "source": [
    "4. (10 puntos) En un restaurant los duen ̃os poseen el problema que algunos clientes s ́olo vienen a comer una vez y no vuelven m ́as. Plantee un modelo de clasificaci ́on donde pueda predecir si un cliente volver ́a o no al restaurant. Para esto defina el posible modelo, su variable dependiente y los posibles atributos que le permitir ́ıan llevar esto a cabo."
   ]
  },
  {
   "cell_type": "markdown",
   "metadata": {},
   "source": [
    "Para esto antes de saber que modelo realizar es saber si queremos saber cual es la variable que mas afecta a que un cliente vuelva o no vuelva, eso es lo que determinara cual modelo utilizaremos, dicho esto creo que habria uqe investigar cuales son las causas mas comunes de estos clientes que vienen a comer una vez al resutaurant y luego nunca mas. Las viariables que podria llegar a utilizar para hacer una claisifcación es Tipo de comida escogida y porque usaria esta variable, seria para saber si existe alguna comida que estoy sirviendo no le gusta a mis clientes. Entonces como no me importa cual es la intuición de las variables, utilizaria un k-vecinos para solventar este problema de clasificación.\n",
    "\n"
   ]
  },
  {
   "cell_type": "markdown",
   "metadata": {},
   "source": [
    "5. (10 puntos) Un an ́alista le recomienda que dada su simplicidad utilice una re- gresi ́on lineal en un problema de clasificaci ́on. Esto a su vez le permitir ́a medir los efectos de cada atributo en la clase predicha. Comente en detalle su recomendaci ́on al respecto."
   ]
  },
  {
   "cell_type": "markdown",
   "metadata": {},
   "source": [
    "El modelo de regresion no me sirve para modelos de clasificación ,porque el resultado de la regresion puede dar fuera de rango, entonces como yo en clasificación lo que realmente estoy haciendo es un modelo probabilistico, lo que necesito es usar una función en donde siempre me da valores entre 0 y 1, aun asi es cierto que en muchos modelos de clasificación como el k-vecinos se pierde el saber cuanto es el efecto marginal de cada atributo, pero hoy en dia existen modelos como la Sigmoid Function, que aun me permiten clasificar probabilisticamente y aun teniendo la intuición de efecto marginal de cada atributo."
   ]
  },
  {
   "cell_type": "markdown",
   "metadata": {},
   "source": [
    "### Ejercicio de Python."
   ]
  },
  {
   "cell_type": "code",
   "execution_count": null,
   "metadata": {},
   "outputs": [],
   "source": [
    "import pandas as pd\n",
    "import numpy as np\n",
    "import matplotlib.pyplot as plt"
   ]
  },
  {
   "cell_type": "markdown",
   "metadata": {},
   "source": [
    "### 1. (2 puntos) Importe la base de datos real estate a Python. Para esto es recomen- dado utilizar el paquete Pandas."
   ]
  },
  {
   "cell_type": "code",
   "execution_count": 126,
   "metadata": {},
   "outputs": [
    {
     "data": {
      "text/plain": [
       "Valor (UF)         float64\n",
       "Dormitorios        float64\n",
       "Banos              float64\n",
       "sup. construida    float64\n",
       "sup. Terreno       float64\n",
       "estacion metro      object\n",
       "dtype: object"
      ]
     },
     "execution_count": 126,
     "metadata": {},
     "output_type": "execute_result"
    }
   ],
   "source": [
    "real_state_db = pd.read_csv(\"/Users/sebastianschmidtpuga/Desktop/MachineLearnig-Alexis/Examen/real_estate.csv\")\n",
    "real_state_db.columns\n",
    "real_state_db.dtypes"
   ]
  },
  {
   "cell_type": "code",
   "execution_count": 127,
   "metadata": {},
   "outputs": [
    {
     "data": {
      "text/plain": [
       "Valor (UF)         float64\n",
       "Dormitorios        float64\n",
       "Banos              float64\n",
       "sup. construida    float64\n",
       "sup. Terreno       float64\n",
       "estacion metro     float64\n",
       "dtype: object"
      ]
     },
     "execution_count": 127,
     "metadata": {},
     "output_type": "execute_result"
    }
   ],
   "source": [
    "real_state_db['estacion metro'] = pd.to_numeric(real_state_db['estacion metro'],errors = 'coerce')\n",
    "real_state_db.dtypes\n"
   ]
  },
  {
   "cell_type": "markdown",
   "metadata": {},
   "source": [
    "### 2. (3 puntos) Elimine las observaciones que no poseen datos completos para cada observaci ́on.\n"
   ]
  },
  {
   "cell_type": "code",
   "execution_count": 128,
   "metadata": {},
   "outputs": [
    {
     "data": {
      "text/plain": [
       "Valor (UF)         float64\n",
       "Dormitorios        float64\n",
       "Banos              float64\n",
       "sup. construida    float64\n",
       "sup. Terreno       float64\n",
       "estacion metro     float64\n",
       "dtype: object"
      ]
     },
     "execution_count": 128,
     "metadata": {},
     "output_type": "execute_result"
    }
   ],
   "source": [
    "real_state_db = real_state_db.dropna()\n",
    "real_state_db.isna().any() \n",
    "real_state_db.dtypes\n"
   ]
  },
  {
   "cell_type": "markdown",
   "metadata": {},
   "source": [
    "\n",
    "### 3. (5 puntos) Realice un trabajo de visualizaci ́on de cada variable explicativa en su relaci ́on con la variable dependiente. Para esto, realice un scatter plot de cada atributo vs el precio de arriendo. Explique en cada caso que relación pareciera existir entre las dos variables."
   ]
  },
  {
   "cell_type": "code",
   "execution_count": 238,
   "metadata": {},
   "outputs": [
    {
     "name": "stdout",
     "output_type": "stream",
     "text": [
      "Existe una tendencia hacia un aumento de precio mientras mas dormitorios existan\n"
     ]
    },
    {
     "data": {
      "image/png": "[encoded data removed]",
      "text/plain": [
       "<Figure size 432x288 with 1 Axes>"
      ]
     },
     "metadata": {
      "needs_background": "light"
     },
     "output_type": "display_data"
    }
   ],
   "source": [
    "plt.scatter(real_state_db.Dormitorios,real_state_db[\"Valor (UF)\"],s=5,color='green')\n",
    "print(\"Existe una tendencia de un aumento de precio mientras mas dormitorios existan\")"
   ]
  },
  {
   "cell_type": "code",
   "execution_count": 248,
   "metadata": {},
   "outputs": [
    {
     "name": "stdout",
     "output_type": "stream",
     "text": [
      "Existe una tendencia de un aumento de precio mientras mas Baños existan\n"
     ]
    },
    {
     "data": {
      "image/png": "[encoded data removed]",
      "text/plain": [
       "<Figure size 432x288 with 1 Axes>"
      ]
     },
     "metadata": {
      "needs_background": "light"
     },
     "output_type": "display_data"
    }
   ],
   "source": [
    "plt.scatter(real_state_db.Banos,real_state_db[\"Valor (UF)\"],s=5,color='green')\n",
    "print(\"Existe una tendencia de un aumento de precio mientras mas Baños existan\")"
   ]
  },
  {
   "cell_type": "code",
   "execution_count": 244,
   "metadata": {},
   "outputs": [
    {
     "name": "stdout",
     "output_type": "stream",
     "text": [
      "Existe una tendencia de un aumento de precio mientras mas metros contruidos existan existan\n"
     ]
    },
    {
     "data": {
      "image/png": "[encoded data removed]",
      "text/plain": [
       "<Figure size 432x288 with 1 Axes>"
      ]
     },
     "metadata": {
      "needs_background": "light"
     },
     "output_type": "display_data"
    }
   ],
   "source": [
    "plt.scatter(real_state_db[\"sup. construida\"],real_state_db[\"Valor (UF)\"],s=5,color='green')\n",
    "print(\"Existe una tendencia de un aumento de precio mientras mas metros contruidos existan existan\")"
   ]
  },
  {
   "cell_type": "code",
   "execution_count": 242,
   "metadata": {},
   "outputs": [
    {
     "name": "stdout",
     "output_type": "stream",
     "text": [
      "Existe una tendencia de un aumento de precio mientras mas terreno existan\n"
     ]
    },
    {
     "data": {
      "image/png": "[encoded data removed]",
      "text/plain": [
       "<Figure size 432x288 with 1 Axes>"
      ]
     },
     "metadata": {
      "needs_background": "light"
     },
     "output_type": "display_data"
    }
   ],
   "source": [
    "plt.scatter(real_state_db[\"sup. Terreno\"],real_state_db[\"Valor (UF)\"],s=5,color='green')\n",
    "print(\"Existe una tendencia de un aumento de precio mientras mas terreno existan\")"
   ]
  },
  {
   "cell_type": "code",
   "execution_count": 240,
   "metadata": {},
   "outputs": [
    {
     "name": "stdout",
     "output_type": "stream",
     "text": [
      "No se logra apreciar una tendencia muy clara, pero creo que existe una tendencia de precios mas altos de hogares a una distancia media del metro, no tan lejos y tampoco tan cerca\n"
     ]
    },
    {
     "data": {
      "image/png": "[encoded data removed]",
      "text/plain": [
       "<Figure size 432x288 with 1 Axes>"
      ]
     },
     "metadata": {
      "needs_background": "light"
     },
     "output_type": "display_data"
    }
   ],
   "source": [
    "plt.scatter(real_state_db[\"estacion metro\"],real_state_db[\"Valor (UF)\"],s=5,color='green')\n",
    "print(\"No se logra apreciar una tendencia muy clara, pero creo que existe una tendencia de precios mas altos de hogares a una distancia media del metro, no tan lejos y tampoco tan cerca\")"
   ]
  },
  {
   "cell_type": "markdown",
   "metadata": {},
   "source": [
    "\n",
    "### 4. (10 puntos) Estime una regresi ́on lineal donde la variable dependiente es el loga- ritmo natural del precio de arriendo y las variables explicativas son el nu ́mero de dormitorios, nu ́mero de ban ̃os, el logaritmo natural de la superficie construida, el logaritmo natural de la superficie de terreno y el logaritmo natural de la distancia a la estaci ́on de metro m ́as cercana."
   ]
  },
  {
   "cell_type": "markdown",
   "metadata": {},
   "source": [
    "Al correr numeros 0 en el logaritmo natural este lo que genera es que el valor sea -infinito, lo que hace imposible correr la base, lo que hare sera aumentar en 1 todos los valores negativos de superficie contruida y superficie "
   ]
  },
  {
   "cell_type": "code",
   "execution_count": 134,
   "metadata": {},
   "outputs": [
    {
     "data": {
      "text/html": [
       "<div>\n",
       "<style scoped>\n",
       "    .dataframe tbody tr th:only-of-type {\n",
       "        vertical-align: middle;\n",
       "    }\n",
       "\n",
       "    .dataframe tbody tr th {\n",
       "        vertical-align: top;\n",
       "    }\n",
       "\n",
       "    .dataframe thead th {\n",
       "        text-align: right;\n",
       "    }\n",
       "</style>\n",
       "<table border=\"1\" class=\"dataframe\">\n",
       "  <thead>\n",
       "    <tr style=\"text-align: right;\">\n",
       "      <th></th>\n",
       "      <th>Valor (UF)</th>\n",
       "      <th>Dormitorios</th>\n",
       "      <th>Banos</th>\n",
       "      <th>sup. construida</th>\n",
       "      <th>sup. Terreno</th>\n",
       "      <th>estacion metro</th>\n",
       "    </tr>\n",
       "  </thead>\n",
       "  <tbody>\n",
       "    <tr>\n",
       "      <th>count</th>\n",
       "      <td>177.000000</td>\n",
       "      <td>177.000000</td>\n",
       "      <td>177.000000</td>\n",
       "      <td>177.000000</td>\n",
       "      <td>177.000000</td>\n",
       "      <td>177.000000</td>\n",
       "    </tr>\n",
       "    <tr>\n",
       "      <th>mean</th>\n",
       "      <td>21.420569</td>\n",
       "      <td>2.435028</td>\n",
       "      <td>1.638418</td>\n",
       "      <td>74.584746</td>\n",
       "      <td>117.559322</td>\n",
       "      <td>448.299435</td>\n",
       "    </tr>\n",
       "    <tr>\n",
       "      <th>std</th>\n",
       "      <td>24.300368</td>\n",
       "      <td>1.228226</td>\n",
       "      <td>0.913469</td>\n",
       "      <td>74.967934</td>\n",
       "      <td>148.735955</td>\n",
       "      <td>263.719905</td>\n",
       "    </tr>\n",
       "    <tr>\n",
       "      <th>min</th>\n",
       "      <td>3.100800</td>\n",
       "      <td>1.000000</td>\n",
       "      <td>1.000000</td>\n",
       "      <td>1.000000</td>\n",
       "      <td>1.000000</td>\n",
       "      <td>25.000000</td>\n",
       "    </tr>\n",
       "    <tr>\n",
       "      <th>25%</th>\n",
       "      <td>8.200000</td>\n",
       "      <td>2.000000</td>\n",
       "      <td>1.000000</td>\n",
       "      <td>31.000000</td>\n",
       "      <td>36.000000</td>\n",
       "      <td>257.000000</td>\n",
       "    </tr>\n",
       "    <tr>\n",
       "      <th>50%</th>\n",
       "      <td>11.510000</td>\n",
       "      <td>2.000000</td>\n",
       "      <td>1.000000</td>\n",
       "      <td>51.000000</td>\n",
       "      <td>56.000000</td>\n",
       "      <td>425.000000</td>\n",
       "    </tr>\n",
       "    <tr>\n",
       "      <th>75%</th>\n",
       "      <td>26.300000</td>\n",
       "      <td>3.000000</td>\n",
       "      <td>2.000000</td>\n",
       "      <td>96.000000</td>\n",
       "      <td>149.000000</td>\n",
       "      <td>647.000000</td>\n",
       "    </tr>\n",
       "    <tr>\n",
       "      <th>max</th>\n",
       "      <td>150.000000</td>\n",
       "      <td>8.000000</td>\n",
       "      <td>5.000000</td>\n",
       "      <td>401.000000</td>\n",
       "      <td>951.000000</td>\n",
       "      <td>997.000000</td>\n",
       "    </tr>\n",
       "  </tbody>\n",
       "</table>\n",
       "</div>"
      ],
      "text/plain": [
       "       Valor (UF)  Dormitorios       Banos  sup. construida  sup. Terreno  \\\n",
       "count  177.000000   177.000000  177.000000       177.000000    177.000000   \n",
       "mean    21.420569     2.435028    1.638418        74.584746    117.559322   \n",
       "std     24.300368     1.228226    0.913469        74.967934    148.735955   \n",
       "min      3.100800     1.000000    1.000000         1.000000      1.000000   \n",
       "25%      8.200000     2.000000    1.000000        31.000000     36.000000   \n",
       "50%     11.510000     2.000000    1.000000        51.000000     56.000000   \n",
       "75%     26.300000     3.000000    2.000000        96.000000    149.000000   \n",
       "max    150.000000     8.000000    5.000000       401.000000    951.000000   \n",
       "\n",
       "       estacion metro  \n",
       "count      177.000000  \n",
       "mean       448.299435  \n",
       "std        263.719905  \n",
       "min         25.000000  \n",
       "25%        257.000000  \n",
       "50%        425.000000  \n",
       "75%        647.000000  \n",
       "max        997.000000  "
      ]
     },
     "execution_count": 134,
     "metadata": {},
     "output_type": "execute_result"
    }
   ],
   "source": [
    "\n",
    "real_state_db[\"sup. Terreno\"] += 1\n",
    "real_state_db[\"sup. construida\"] += 1\n",
    "real_state_db.describe()"
   ]
  },
  {
   "cell_type": "code",
   "execution_count": 135,
   "metadata": {},
   "outputs": [],
   "source": [
    "\n",
    "X = np.column_stack([np.ones_like(real_state_db.Dormitorios), real_state_db.Dormitorios , real_state_db.Banos , np.log(real_state_db[\"sup. construida\"]), np.log(real_state_db[\"sup. Terreno\"]),  np.log(real_state_db[\"estacion metro\"])])\n"
   ]
  },
  {
   "cell_type": "code",
   "execution_count": 136,
   "metadata": {},
   "outputs": [
    {
     "name": "stdout",
     "output_type": "stream",
     "text": [
      "[1.02215795 0.10904785 0.36509392 0.17283998 0.02038824 0.02272078]\n"
     ]
    }
   ],
   "source": [
    "β = np.linalg.lstsq(X,np.log(real_state_db[\"Valor (UF)\"]),rcond=None)[0]\n",
    "print(β)\n"
   ]
  },
  {
   "cell_type": "code",
   "execution_count": 137,
   "metadata": {},
   "outputs": [],
   "source": [
    "y_hat = X@β\n"
   ]
  },
  {
   "cell_type": "code",
   "execution_count": 138,
   "metadata": {},
   "outputs": [
    {
     "data": {
      "text/html": [
       "<table class=\"simpletable\">\n",
       "<caption>OLS Regression Results</caption>\n",
       "<tr>\n",
       "  <th>Dep. Variable:</th>       <td>Valor (UF)</td>    <th>  R-squared:         </th> <td>   0.784</td>\n",
       "</tr>\n",
       "<tr>\n",
       "  <th>Model:</th>                   <td>OLS</td>       <th>  Adj. R-squared:    </th> <td>   0.777</td>\n",
       "</tr>\n",
       "<tr>\n",
       "  <th>Method:</th>             <td>Least Squares</td>  <th>  F-statistic:       </th> <td>   123.8</td>\n",
       "</tr>\n",
       "<tr>\n",
       "  <th>Date:</th>             <td>Wed, 01 Jun 2022</td> <th>  Prob (F-statistic):</th> <td>6.39e-55</td>\n",
       "</tr>\n",
       "<tr>\n",
       "  <th>Time:</th>                 <td>09:38:59</td>     <th>  Log-Likelihood:    </th> <td> -72.953</td>\n",
       "</tr>\n",
       "<tr>\n",
       "  <th>No. Observations:</th>      <td>   177</td>      <th>  AIC:               </th> <td>   157.9</td>\n",
       "</tr>\n",
       "<tr>\n",
       "  <th>Df Residuals:</th>          <td>   171</td>      <th>  BIC:               </th> <td>   177.0</td>\n",
       "</tr>\n",
       "<tr>\n",
       "  <th>Df Model:</th>              <td>     5</td>      <th>                     </th>     <td> </td>   \n",
       "</tr>\n",
       "<tr>\n",
       "  <th>Covariance Type:</th>      <td>nonrobust</td>    <th>                     </th>     <td> </td>   \n",
       "</tr>\n",
       "</table>\n",
       "<table class=\"simpletable\">\n",
       "<tr>\n",
       "    <td></td>       <th>coef</th>     <th>std err</th>      <th>t</th>      <th>P>|t|</th>  <th>[0.025</th>    <th>0.975]</th>  \n",
       "</tr>\n",
       "<tr>\n",
       "  <th>const</th> <td>    1.0222</td> <td>    0.243</td> <td>    4.199</td> <td> 0.000</td> <td>    0.542</td> <td>    1.503</td>\n",
       "</tr>\n",
       "<tr>\n",
       "  <th>x1</th>    <td>    0.1090</td> <td>    0.033</td> <td>    3.268</td> <td> 0.001</td> <td>    0.043</td> <td>    0.175</td>\n",
       "</tr>\n",
       "<tr>\n",
       "  <th>x2</th>    <td>    0.3651</td> <td>    0.046</td> <td>    7.924</td> <td> 0.000</td> <td>    0.274</td> <td>    0.456</td>\n",
       "</tr>\n",
       "<tr>\n",
       "  <th>x3</th>    <td>    0.1728</td> <td>    0.026</td> <td>    6.615</td> <td> 0.000</td> <td>    0.121</td> <td>    0.224</td>\n",
       "</tr>\n",
       "<tr>\n",
       "  <th>x4</th>    <td>    0.0204</td> <td>    0.026</td> <td>    0.771</td> <td> 0.442</td> <td>   -0.032</td> <td>    0.073</td>\n",
       "</tr>\n",
       "<tr>\n",
       "  <th>x5</th>    <td>    0.0227</td> <td>    0.041</td> <td>    0.548</td> <td> 0.584</td> <td>   -0.059</td> <td>    0.105</td>\n",
       "</tr>\n",
       "</table>\n",
       "<table class=\"simpletable\">\n",
       "<tr>\n",
       "  <th>Omnibus:</th>       <td>35.003</td> <th>  Durbin-Watson:     </th> <td>   1.431</td>\n",
       "</tr>\n",
       "<tr>\n",
       "  <th>Prob(Omnibus):</th> <td> 0.000</td> <th>  Jarque-Bera (JB):  </th> <td>  70.704</td>\n",
       "</tr>\n",
       "<tr>\n",
       "  <th>Skew:</th>          <td> 0.917</td> <th>  Prob(JB):          </th> <td>4.43e-16</td>\n",
       "</tr>\n",
       "<tr>\n",
       "  <th>Kurtosis:</th>      <td> 5.495</td> <th>  Cond. No.          </th> <td>    76.2</td>\n",
       "</tr>\n",
       "</table><br/><br/>Notes:<br/>[1] Standard Errors assume that the covariance matrix of the errors is correctly specified."
      ],
      "text/plain": [
       "<class 'statsmodels.iolib.summary.Summary'>\n",
       "\"\"\"\n",
       "                            OLS Regression Results                            \n",
       "==============================================================================\n",
       "Dep. Variable:             Valor (UF)   R-squared:                       0.784\n",
       "Model:                            OLS   Adj. R-squared:                  0.777\n",
       "Method:                 Least Squares   F-statistic:                     123.8\n",
       "Date:                Wed, 01 Jun 2022   Prob (F-statistic):           6.39e-55\n",
       "Time:                        09:38:59   Log-Likelihood:                -72.953\n",
       "No. Observations:                 177   AIC:                             157.9\n",
       "Df Residuals:                     171   BIC:                             177.0\n",
       "Df Model:                           5                                         \n",
       "Covariance Type:            nonrobust                                         \n",
       "==============================================================================\n",
       "                 coef    std err          t      P>|t|      [0.025      0.975]\n",
       "------------------------------------------------------------------------------\n",
       "const          1.0222      0.243      4.199      0.000       0.542       1.503\n",
       "x1             0.1090      0.033      3.268      0.001       0.043       0.175\n",
       "x2             0.3651      0.046      7.924      0.000       0.274       0.456\n",
       "x3             0.1728      0.026      6.615      0.000       0.121       0.224\n",
       "x4             0.0204      0.026      0.771      0.442      -0.032       0.073\n",
       "x5             0.0227      0.041      0.548      0.584      -0.059       0.105\n",
       "==============================================================================\n",
       "Omnibus:                       35.003   Durbin-Watson:                   1.431\n",
       "Prob(Omnibus):                  0.000   Jarque-Bera (JB):               70.704\n",
       "Skew:                           0.917   Prob(JB):                     4.43e-16\n",
       "Kurtosis:                       5.495   Cond. No.                         76.2\n",
       "==============================================================================\n",
       "\n",
       "Notes:\n",
       "[1] Standard Errors assume that the covariance matrix of the errors is correctly specified.\n",
       "\"\"\""
      ]
     },
     "execution_count": 138,
     "metadata": {},
     "output_type": "execute_result"
    }
   ],
   "source": [
    "import statsmodels.api as sm\n",
    "\n",
    "model_a = sm.OLS(np.log(real_state_db[\"Valor (UF)\"]),X)\n",
    "model_a = model_a.fit()\n",
    "model_a.summary()"
   ]
  },
  {
   "cell_type": "markdown",
   "metadata": {},
   "source": [
    "### 5 puntos) Calcule el ECM de la estimaci ́on previa. ¿Qu ́e problema podr ́ıa tener el calcular este estad ́ıstico con toda la muestra?"
   ]
  },
  {
   "cell_type": "code",
   "execution_count": 140,
   "metadata": {},
   "outputs": [
    {
     "data": {
      "text/plain": [
       "0.13351362868867714"
      ]
     },
     "execution_count": 140,
     "metadata": {},
     "output_type": "execute_result"
    }
   ],
   "source": [
    "ECM_1 = np.mean((np.log(real_state_db[\"Valor (UF)\"])-y_hat)**2)\n",
    "ECM_1"
   ]
  },
  {
   "cell_type": "markdown",
   "metadata": {},
   "source": [
    "El problema mas grande de esta estimación es que como se esta haciendo con toda la muestra no se esta haciendo crossvalidation, osea no logro saber si estoy sobreestimando el modelo o no, dado que estoy testiando y entrenando con toda la muestra"
   ]
  },
  {
   "cell_type": "markdown",
   "metadata": {},
   "source": [
    "6. (10 puntos) Realice una estimaci ́on de la variable dependiente en logaritmo natural y cada una de las variables independientes utilizadas en 4. Es decir corra una regresi ́on lineal con una constante y una sola variable independiente para cada caso. Realice un gr ́afico con scatter plot para los valores reales y una recta para el valor predicho en cada caso. Documente en qu ́e caso pareciera que existe un underfitting."
   ]
  },
  {
   "cell_type": "code",
   "execution_count": 148,
   "metadata": {},
   "outputs": [
    {
     "data": {
      "text/plain": [
       "<matplotlib.collections.PathCollection at 0x7fc5b2bd55b0>"
      ]
     },
     "execution_count": 148,
     "metadata": {},
     "output_type": "execute_result"
    },
    {
     "data": {
      "image/png": "[encoded data removed]",
      "text/plain": [
       "<Figure size 432x288 with 1 Axes>"
      ]
     },
     "metadata": {
      "needs_background": "light"
     },
     "output_type": "display_data"
    }
   ],
   "source": [
    "X_2 = np.column_stack([np.ones_like(real_state_db.Dormitorios), real_state_db.Dormitorios])\n",
    "y = np.log(real_state_db[\"Valor (UF)\"])\n",
    "β_2 = np.linalg.lstsq(X_2,y,rcond=None)[0]\n",
    "y_pred_2 = X_2@β_2\n",
    "plt.scatter(real_state_db.Dormitorios , y,color='blue',s=5)\n",
    "plt.scatter(real_state_db.Dormitorios , y_pred_2,color='red',s=5)\n",
    " \n"
   ]
  },
  {
   "cell_type": "code",
   "execution_count": 149,
   "metadata": {},
   "outputs": [
    {
     "data": {
      "text/plain": [
       "<matplotlib.collections.PathCollection at 0x7fc594772670>"
      ]
     },
     "execution_count": 149,
     "metadata": {},
     "output_type": "execute_result"
    },
    {
     "data": {
      "image/png": "[encoded data removed]",
      "text/plain": [
       "<Figure size 432x288 with 1 Axes>"
      ]
     },
     "metadata": {
      "needs_background": "light"
     },
     "output_type": "display_data"
    }
   ],
   "source": [
    "X_3 = np.column_stack([np.ones_like(real_state_db.Banos), real_state_db.Banos])\n",
    "β_3 = np.linalg.lstsq(X_3,y,rcond=None)[0]\n",
    "y_pred_3 = X_3@β_3\n",
    "plt.scatter(real_state_db.Banos , y,color='blue',s=5)\n",
    "plt.scatter(real_state_db.Banos , y_pred_3,color='red',s=5)"
   ]
  },
  {
   "cell_type": "code",
   "execution_count": 150,
   "metadata": {},
   "outputs": [
    {
     "data": {
      "text/plain": [
       "<matplotlib.collections.PathCollection at 0x7fc5947dceb0>"
      ]
     },
     "execution_count": 150,
     "metadata": {},
     "output_type": "execute_result"
    },
    {
     "data": {
      "image/png": "[encoded data removed]",
      "text/plain": [
       "<Figure size 432x288 with 1 Axes>"
      ]
     },
     "metadata": {
      "needs_background": "light"
     },
     "output_type": "display_data"
    }
   ],
   "source": [
    "X_4 = np.column_stack([np.ones_like(real_state_db[\"sup. construida\"]), real_state_db[\"sup. construida\"]])\n",
    "β_4 = np.linalg.lstsq(X_4,y,rcond=None)[0]\n",
    "y_pred_4 = X_4@β_4\n",
    "plt.scatter(real_state_db[\"sup. construida\"] , y,color='blue',s=5)\n",
    "plt.scatter(real_state_db[\"sup. construida\"], y_pred_4,color='red',s=5)\n"
   ]
  },
  {
   "cell_type": "code",
   "execution_count": 151,
   "metadata": {},
   "outputs": [
    {
     "data": {
      "text/plain": [
       "<matplotlib.collections.PathCollection at 0x7fc582d57640>"
      ]
     },
     "execution_count": 151,
     "metadata": {},
     "output_type": "execute_result"
    },
    {
     "data": {
      "image/png": "[encoded data removed]",
      "text/plain": [
       "<Figure size 432x288 with 1 Axes>"
      ]
     },
     "metadata": {
      "needs_background": "light"
     },
     "output_type": "display_data"
    }
   ],
   "source": [
    "X_5 = np.column_stack([np.ones_like(real_state_db[\"sup. Terreno\"]), real_state_db[\"sup. Terreno\"]])\n",
    "β_5 = np.linalg.lstsq(X_5,y,rcond=None)[0]\n",
    "y_pred_5 = X_5@β_5\n",
    "plt.scatter(real_state_db[\"sup. Terreno\"] , y,color='blue',s=5)\n",
    "plt.scatter(real_state_db[\"sup. Terreno\"], y_pred_5,color='red',s=5)\n"
   ]
  },
  {
   "cell_type": "code",
   "execution_count": 152,
   "metadata": {},
   "outputs": [
    {
     "data": {
      "text/plain": [
       "<matplotlib.collections.PathCollection at 0x7fc5b2cf9490>"
      ]
     },
     "execution_count": 152,
     "metadata": {},
     "output_type": "execute_result"
    },
    {
     "data": {
      "image/png": "[encoded data removed]",
      "text/plain": [
       "<Figure size 432x288 with 1 Axes>"
      ]
     },
     "metadata": {
      "needs_background": "light"
     },
     "output_type": "display_data"
    }
   ],
   "source": [
    "X_6 = np.column_stack([np.ones_like(real_state_db[\"estacion metro\"]), real_state_db[\"estacion metro\"]])\n",
    "β_6 = np.linalg.lstsq(X_6,y,rcond=None)[0]\n",
    "y_pred_6 = X_6@β_6\n",
    "plt.scatter(real_state_db[\"estacion metro\"] , y,color='blue',s=5)\n",
    "plt.scatter(real_state_db[\"estacion metro\"], y_pred_6,color='red',s=5)"
   ]
  },
  {
   "cell_type": "markdown",
   "metadata": {},
   "source": [
    "Por lo que se puede ver en los graficos, se podria decir que el ultimo modelo, entre distancia al metro y precio de la vivienda, esta underfitted, dado que no logra de buena manera encontrar la verdadera pendiente de la recta."
   ]
  },
  {
   "cell_type": "markdown",
   "metadata": {},
   "source": [
    "### 7. (10 puntos) Estime un modelo donde incorpore una constante y la superficie con- struida como polinomio desde el grado 2 hasta el grado 10 (utilice el precio como variable dependiente). Reporte el ECM para este modelo. Para realizar esto, utilice una muestra de entrenamiento y testeo."
   ]
  },
  {
   "cell_type": "code",
   "execution_count": 175,
   "metadata": {},
   "outputs": [
    {
     "data": {
      "text/plain": [
       "337.0816719500022"
      ]
     },
     "execution_count": 175,
     "metadata": {},
     "output_type": "execute_result"
    }
   ],
   "source": [
    "from sklearn.model_selection import train_test_split\n",
    "X = real_state_db[\"sup. construida\"] \n",
    "y = real_state_db[\"Valor (UF)\"]\n",
    "\n",
    "K = 10\n",
    "X_10 = np.column_stack([X**k for k in range(K+1)])\n",
    "X_train, X_test, y_train, y_test = train_test_split(X_10, y, test_size = 0.3, random_state = 0)\n",
    "β_10= np.linalg.lstsq(X_train,y_train,rcond=None)[0]\n",
    "y_pred_10 = X_test@β_10\n",
    "ECM = np.mean((y_pred_10 - y_test)**2)\n",
    "ECM"
   ]
  },
  {
   "cell_type": "markdown",
   "metadata": {},
   "source": [
    "### 8. (15 puntos) Utilizando la estimaci ́on encontrada en el punto anterior, regularice utilizando el m ́etodo de Ridge Regression. Para esto, cree una grilla de 10 valores para λ entre 0 y 5 y testee con cu ́al de ellos se encuentra el menor ECM. Es decir, diga con que λ de los 10 de la grilla el modelo posee el mejor ajuste. Para realizar esto, en cada caso, utilice una muestra de entrenamiento y testeo."
   ]
  },
  {
   "cell_type": "code",
   "execution_count": 226,
   "metadata": {},
   "outputs": [
    {
     "name": "stdout",
     "output_type": "stream",
     "text": [
      "134.2295333132643\n"
     ]
    },
    {
     "name": "stderr",
     "output_type": "stream",
     "text": [
      "/Users/sebastianschmidtpuga/opt/miniconda3/lib/python3.9/site-packages/sklearn/linear_model/_ridge.py:157: LinAlgWarning: Ill-conditioned matrix (rcond=8.59537e-55): result may not be accurate.\n",
      "  return linalg.solve(A, Xy, sym_pos=True, overwrite_a=True).T\n"
     ]
    }
   ],
   "source": [
    "from sklearn.linear_model import Ridge\n",
    "from sklearn.metrics import mean_squared_error\n",
    "\n",
    "\n",
    "Ridge1 = Ridge(alpha=0.01)\n",
    "Ridge1.fit(X_train, y_train) \n",
    "pred_train_rr= Ridge1.predict(X_test)\n",
    "print((mean_squared_error(y_test,pred_train_rr)))\n",
    "\n"
   ]
  },
  {
   "cell_type": "code",
   "execution_count": 227,
   "metadata": {},
   "outputs": [
    {
     "name": "stdout",
     "output_type": "stream",
     "text": [
      "134.10305740082285\n"
     ]
    },
    {
     "name": "stderr",
     "output_type": "stream",
     "text": [
      "/Users/sebastianschmidtpuga/opt/miniconda3/lib/python3.9/site-packages/sklearn/linear_model/_ridge.py:157: LinAlgWarning: Ill-conditioned matrix (rcond=8.59537e-54): result may not be accurate.\n",
      "  return linalg.solve(A, Xy, sym_pos=True, overwrite_a=True).T\n"
     ]
    }
   ],
   "source": [
    "Ridge1 = Ridge(alpha=0.1)\n",
    "Ridge1.fit(X_train, y_train) \n",
    "pred_train_rr= Ridge1.predict(X_test)\n",
    "print((mean_squared_error(y_test,pred_train_rr)))"
   ]
  },
  {
   "cell_type": "code",
   "execution_count": 228,
   "metadata": {},
   "outputs": [
    {
     "name": "stdout",
     "output_type": "stream",
     "text": [
      "133.97751326072304\n"
     ]
    },
    {
     "name": "stderr",
     "output_type": "stream",
     "text": [
      "/Users/sebastianschmidtpuga/opt/miniconda3/lib/python3.9/site-packages/sklearn/linear_model/_ridge.py:157: LinAlgWarning: Ill-conditioned matrix (rcond=2.14884e-53): result may not be accurate.\n",
      "  return linalg.solve(A, Xy, sym_pos=True, overwrite_a=True).T\n"
     ]
    }
   ],
   "source": [
    "Ridge1 = Ridge(alpha=0.25)\n",
    "Ridge1.fit(X_train, y_train) \n",
    "pred_train_rr= Ridge1.predict(X_test)\n",
    "print((mean_squared_error(y_test,pred_train_rr)))"
   ]
  },
  {
   "cell_type": "code",
   "execution_count": 229,
   "metadata": {},
   "outputs": [
    {
     "name": "stdout",
     "output_type": "stream",
     "text": [
      "133.719744884907\n"
     ]
    },
    {
     "name": "stderr",
     "output_type": "stream",
     "text": [
      "/Users/sebastianschmidtpuga/opt/miniconda3/lib/python3.9/site-packages/sklearn/linear_model/_ridge.py:157: LinAlgWarning: Ill-conditioned matrix (rcond=4.29768e-53): result may not be accurate.\n",
      "  return linalg.solve(A, Xy, sym_pos=True, overwrite_a=True).T\n"
     ]
    }
   ],
   "source": [
    "Ridge1 = Ridge(alpha=0.5)\n",
    "Ridge1.fit(X_train, y_train) \n",
    "pred_train_rr= Ridge1.predict(X_test)\n",
    "print((mean_squared_error(y_test,pred_train_rr)))"
   ]
  },
  {
   "cell_type": "code",
   "execution_count": 230,
   "metadata": {},
   "outputs": [
    {
     "name": "stdout",
     "output_type": "stream",
     "text": [
      "133.23481129679087\n"
     ]
    },
    {
     "name": "stderr",
     "output_type": "stream",
     "text": [
      "/Users/sebastianschmidtpuga/opt/miniconda3/lib/python3.9/site-packages/sklearn/linear_model/_ridge.py:157: LinAlgWarning: Ill-conditioned matrix (rcond=8.59537e-53): result may not be accurate.\n",
      "  return linalg.solve(A, Xy, sym_pos=True, overwrite_a=True).T\n"
     ]
    }
   ],
   "source": [
    "Ridge1 = Ridge(alpha=1)\n",
    "Ridge1.fit(X_train, y_train) \n",
    "pred_train_rr= Ridge1.predict(X_test)\n",
    "print((mean_squared_error(y_test,pred_train_rr)))"
   ]
  },
  {
   "cell_type": "code",
   "execution_count": 231,
   "metadata": {},
   "outputs": [
    {
     "name": "stdout",
     "output_type": "stream",
     "text": [
      "132.92837082425675\n"
     ]
    },
    {
     "name": "stderr",
     "output_type": "stream",
     "text": [
      "/Users/sebastianschmidtpuga/opt/miniconda3/lib/python3.9/site-packages/sklearn/linear_model/_ridge.py:157: LinAlgWarning: Ill-conditioned matrix (rcond=1.2893e-52): result may not be accurate.\n",
      "  return linalg.solve(A, Xy, sym_pos=True, overwrite_a=True).T\n"
     ]
    }
   ],
   "source": [
    "Ridge1 = Ridge(alpha=1.5)\n",
    "Ridge1.fit(X_train, y_train) \n",
    "pred_train_rr= Ridge1.predict(X_test)\n",
    "print((mean_squared_error(y_test,pred_train_rr)))"
   ]
  },
  {
   "cell_type": "code",
   "execution_count": 232,
   "metadata": {},
   "outputs": [
    {
     "name": "stdout",
     "output_type": "stream",
     "text": [
      "132.62838919025484\n"
     ]
    },
    {
     "name": "stderr",
     "output_type": "stream",
     "text": [
      "/Users/sebastianschmidtpuga/opt/miniconda3/lib/python3.9/site-packages/sklearn/linear_model/_ridge.py:157: LinAlgWarning: Ill-conditioned matrix (rcond=1.71907e-52): result may not be accurate.\n",
      "  return linalg.solve(A, Xy, sym_pos=True, overwrite_a=True).T\n"
     ]
    }
   ],
   "source": [
    "Ridge1 = Ridge(alpha=2)\n",
    "Ridge1.fit(X_train, y_train) \n",
    "pred_train_rr= Ridge1.predict(X_test)\n",
    "print((mean_squared_error(y_test,pred_train_rr)))"
   ]
  },
  {
   "cell_type": "code",
   "execution_count": 233,
   "metadata": {},
   "outputs": [
    {
     "name": "stdout",
     "output_type": "stream",
     "text": [
      "132.32623785107455\n"
     ]
    },
    {
     "name": "stderr",
     "output_type": "stream",
     "text": [
      "/Users/sebastianschmidtpuga/opt/miniconda3/lib/python3.9/site-packages/sklearn/linear_model/_ridge.py:157: LinAlgWarning: Ill-conditioned matrix (rcond=2.15744e-52): result may not be accurate.\n",
      "  return linalg.solve(A, Xy, sym_pos=True, overwrite_a=True).T\n"
     ]
    }
   ],
   "source": [
    "Ridge1 = Ridge(alpha=2.51)\n",
    "Ridge1.fit(X_train, y_train) \n",
    "pred_train_rr= Ridge1.predict(X_test)\n",
    "print((mean_squared_error(y_test,pred_train_rr)))"
   ]
  },
  {
   "cell_type": "code",
   "execution_count": 234,
   "metadata": {},
   "outputs": [
    {
     "name": "stdout",
     "output_type": "stream",
     "text": [
      "132.10154634393973\n"
     ]
    },
    {
     "name": "stderr",
     "output_type": "stream",
     "text": [
      "/Users/sebastianschmidtpuga/opt/miniconda3/lib/python3.9/site-packages/sklearn/linear_model/_ridge.py:157: LinAlgWarning: Ill-conditioned matrix (rcond=2.57861e-52): result may not be accurate.\n",
      "  return linalg.solve(A, Xy, sym_pos=True, overwrite_a=True).T\n"
     ]
    }
   ],
   "source": [
    "Ridge1 = Ridge(alpha=3)\n",
    "Ridge1.fit(X_train, y_train) \n",
    "pred_train_rr= Ridge1.predict(X_test)\n",
    "print((mean_squared_error(y_test,pred_train_rr)))"
   ]
  },
  {
   "cell_type": "code",
   "execution_count": 235,
   "metadata": {},
   "outputs": [
    {
     "name": "stdout",
     "output_type": "stream",
     "text": [
      "131.73472024871705\n"
     ]
    },
    {
     "name": "stderr",
     "output_type": "stream",
     "text": [
      "/Users/sebastianschmidtpuga/opt/miniconda3/lib/python3.9/site-packages/sklearn/linear_model/_ridge.py:157: LinAlgWarning: Ill-conditioned matrix (rcond=3.43815e-52): result may not be accurate.\n",
      "  return linalg.solve(A, Xy, sym_pos=True, overwrite_a=True).T\n"
     ]
    }
   ],
   "source": [
    "Ridge1 = Ridge(alpha=4)\n",
    "Ridge1.fit(X_train, y_train) \n",
    "pred_train_rr= Ridge1.predict(X_test)\n",
    "print((mean_squared_error(y_test,pred_train_rr)))\n"
   ]
  },
  {
   "cell_type": "code",
   "execution_count": 237,
   "metadata": {},
   "outputs": [
    {
     "name": "stdout",
     "output_type": "stream",
     "text": [
      "131.45216342559095\n"
     ]
    },
    {
     "name": "stderr",
     "output_type": "stream",
     "text": [
      "/Users/sebastianschmidtpuga/opt/miniconda3/lib/python3.9/site-packages/sklearn/linear_model/_ridge.py:157: LinAlgWarning: Ill-conditioned matrix (rcond=4.28909e-52): result may not be accurate.\n",
      "  return linalg.solve(A, Xy, sym_pos=True, overwrite_a=True).T\n"
     ]
    }
   ],
   "source": [
    "Ridge1 = Ridge(alpha=4.99)\n",
    "Ridge1.fit(X_train, y_train) \n",
    "pred_train_rr= Ridge1.predict(X_test)\n",
    "print((mean_squared_error(y_test,pred_train_rr)))\n"
   ]
  },
  {
   "cell_type": "markdown",
   "metadata": {},
   "source": [
    "El ECM mas chico es el mas cercano a alpha 5"
   ]
  },
  {
   "cell_type": "code",
   "execution_count": null,
   "metadata": {},
   "outputs": [],
   "source": []
  },
  {
   "cell_type": "code",
   "execution_count": null,
   "metadata": {},
   "outputs": [],
   "source": []
  },
  {
   "cell_type": "code",
   "execution_count": null,
   "metadata": {},
   "outputs": [],
   "source": []
  }
 ],
 "metadata": {
  "interpreter": {
   "hash": "a2b75d607e69e1eafe8e445dd0e15dbb8f5f0b9428307d280f5a3dc4798940b4"
  },
  "kernelspec": {
   "display_name": "Python 3.9.7 ('base')",
   "language": "python",
   "name": "python3"
  },
  "language_info": {
   "codemirror_mode": {
    "name": "ipython",
    "version": 3
   },
   "file_extension": ".py",
   "mimetype": "text/x-python",
   "name": "python",
   "nbconvert_exporter": "python",
   "pygments_lexer": "ipython3",
   "version": "3.9.7"
  },
  "orig_nbformat": 4
 },
 "nbformat": 4,
 "nbformat_minor": 2
}
