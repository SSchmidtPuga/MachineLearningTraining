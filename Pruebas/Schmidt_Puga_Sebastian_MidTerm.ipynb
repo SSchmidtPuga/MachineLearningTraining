{
 "cells": [
  {
   "cell_type": "markdown",
   "metadata": {},
   "source": [
    "\n",
    "### Pregunta 1 Teorica"
   ]
  },
  {
   "cell_type": "markdown",
   "metadata": {},
   "source": [
    "1. (20 puntos) Usted es contratade para la empresa productora y distribuidora ABC. Su cliente est ́a interesade en saber qu ́e determina la venta que se realiza en los locales de barrio. Esto es conocido tambi ́en como canal tradicional. Usted cuenta con una base de todo Chile, por regi ́on y por comuna donde se detalla la venta realizada de los productos que usted le provee a cada almac ́en."
   ]
  },
  {
   "cell_type": "markdown",
   "metadata": {},
   "source": [
    "### (a) (5 puntos) Detalle el o los posibles objetivos que usted cree ser ́ıan interesantes para su cliente para poder abordar este problema."
   ]
  },
  {
   "cell_type": "markdown",
   "metadata": {},
   "source": [
    "Los posibles objetivos que podriamos tener con el cliente son:\n",
    "1) Mejorar la logistica de distribución de productos. (Objetivo 1)\n",
    "2) Predecir cuanto generara un almacen nuevo. (Objetivo 2)\n",
    "3) Maximizar excedente de utilidad. (Objetivo 3)"
   ]
  },
  {
   "cell_type": "markdown",
   "metadata": {},
   "source": [
    "\n",
    "### (b) (5 puntos) ¿Que datos cree serıan importantes para poder analizar este problema desde el punto de vista del Data Analytics? Dicho de otra forma, ¿que variables podr ıan ser de utilidad para dar un modelamiento al problema? Explique por que elige esas variables, es decir de que forma contribuyen a una solucion de negocios."
   ]
  },
  {
   "cell_type": "markdown",
   "metadata": {},
   "source": [
    "Explicare por cada propuesta que variables seria importante considerar:\n",
    "1. Objetivo 1 : Venta mensual de cada producto separado por comuna para asi poder saber de mejor manera dependiendo de que zona este debo ponerle mas enfoque a ciertos productos, finalmente esto podria ayudar a en la logistica de distribución de productos, ejemplo en iquique se logra reconocer que se consume mas harina que en las santiago, las diferentes bodegas tendran mejor optimizado el stock en bogega.\n",
    "2. Objetivo 2: Para esto necesitariamos, ventas totales por comuna y por region de cada tienda , ademas de datos como la distancia de una calle concurrida, distancia de locales que sean competencia, metros cuadrados del local, ingreso promedio por casa en la comuna, Barrio residencial o no. Asi con esto podremos hacer un modelo predictivo, que logre predecir cuando generare si logro abrir un nuevo local en esa zona.\n",
    "3. Objetivo 3: El dato mas releevante para este objetivo seria el precio de venta al consumidor final de cada producto dependiendo de la comuna/region, asi  podremos generar una tabla de precios de venta dinamica maximizando nuestras utilidades."
   ]
  },
  {
   "cell_type": "markdown",
   "metadata": {},
   "source": [
    "### (c) (10 puntos) Usted logra determinar que un buen enfoque ser ́ıa modelar la venta total de cada local en una regresi ́on lineal. Explique c ́omo desarrollar ́ıa este proceso. Refi ́erase a  ́este asumiendo que posee los datos que consigui ́o en el punto anterior. Explique c ́omo lo estimar ́ıa y qu ́e precauciones debe tomar.\n"
   ]
  },
  {
   "cell_type": "markdown",
   "metadata": {},
   "source": [
    "Para que se logre entender de mejor manera usare el objetivo 2 anterior para modelar via regresión Lineal.\n",
    "Entonces cada el modelo con las 6 variables se veria de la siguiente manera, donde el y seria cuanto es la venta por mes de cada tienda\n",
    "\n",
    "Regresión = $y_i = \\beta_0 + \\beta_1 x_1 + \\beta_2 x_2+ \\beta_3 x_3+ \\beta_4 x_4+ \\beta_5 x_5+ \\beta_6 x_6+ \\epsilon_i$\n",
    "\n",
    "El procedimiento seria:\n",
    "1. Limpiar la base de datos\n",
    "2. Visualizar los datos en distintas \n",
    "3. Separaria la muestra en Training set y Test set -> Evitar Overfitting \n",
    "3. Con un estendimiento ya mas claro de como se distirbuyen los datos, intentaria modelar el modelo con una función que mas se parezca a la de los datos presentados. Por ejemplo, si se logra visualizar que los datos es una linea recta, lo haria un modelo de orden 1.\n",
    "4. Con el Test set, probaria el modelo y iria verificando que la predicción sea lo mejor posible. \n",
    "\n",
    "En este ejemplo en particular algo que verificaria seria la aditividad de los parametros, osea que entre dos o mas las variables explicativas esten interactuando entre ellas.\n",
    "\n"
   ]
  },
  {
   "cell_type": "markdown",
   "metadata": {},
   "source": [
    "### Pregunta 2 Teorica"
   ]
  },
  {
   "cell_type": "markdown",
   "metadata": {},
   "source": [
    "2. (20 puntos) En el departamento de people analytics del Banco X, usted ha sido contratade para determinar como la productividad de los ejecutivos de cuenta (aquellos que venden los creditos de consumo e hipotecarios) depende de variables que el banco puede decidir, por ejemplo, como el salario. La idea de fondo es determinar que polıticas internas del banco podrıan ser relevantes para estimular a estos trabajadores a realizar una mejor labor.\n",
    "\n",
    "\n",
    "### (a) (5 puntos) ¿Que otras variables podrıan ser importantes para modelar lo que el banco le pide?"
   ]
  },
  {
   "cell_type": "markdown",
   "metadata": {},
   "source": [
    "Variables que pueden ser importantes:\n",
    "\n",
    "1) Bonos por venta.\n",
    "2) Beneficios como seguros familiares, de salud, dentales etc.\n",
    "3) Tipo de jornada (Hibrida o Presencial).\n",
    "4) Duración jornada labloral.\n",
    "5) Base de clientes otorgada por el banco o personal de cada vendedor.\n",
    "6) % de Crecimiento del sueldo año tras año. \n",
    "\n"
   ]
  },
  {
   "cell_type": "markdown",
   "metadata": {},
   "source": [
    "### (b) (5 puntos) ¿Que medidas de desempeno podr ıan ser utiles para evaluar lo que el banco le ha llamado una mejor labor? Note que esto depende del objetivo que su cliente le ha pedido lograr.\n"
   ]
  },
  {
   "cell_type": "markdown",
   "metadata": {},
   "source": [
    "Finalmente el objetivo que quiere el banco es saber que debo darles a mi equipo de ventas para que vendas mas creditos de consumo e hipotecarios.\n",
    "  1. Ventas semanales por persona.\n",
    "  2. % De conversion/venta con respecto a la cantidad de llamadas.\n",
    "  3. Cantidad de llamadas por semana por persona.\n",
    "  4. Tiempo de vida promedio de un cliente con un ejecutivo -> suponiendo que vende y gestiona al cliente luego de la venta.\n",
    "\n",
    "\n"
   ]
  },
  {
   "cell_type": "markdown",
   "metadata": {},
   "source": [
    "### (c) (10 puntos) Detalle los pasos que realizarıa para poder enfrentar esto desde el enfoque del Data Analytics. Explique cada uno de ellos en este caso "
   ]
  },
  {
   "cell_type": "markdown",
   "metadata": {},
   "source": [
    "Paso a paso para resolución del problema.\n",
    "1) Entendimiento del problema en profundidad, verificando que cada variable que nosotros creemos relevante impacte realmente en el problema que queremos predecir. \n",
    "2) Recolección y ordenamiento de los datos de el equipo de ventas que analizaremos. \n",
    "3) Visualización y entendimiento real de los datos\n",
    "4) Ya con ls variables selecciónadas, vamos a  elegir cual es la KPI que queremos generar el modelo\n",
    "5) Selección de cual es el mejor Modela el optimo, ver como se comportan los parametros y intentar crear hipotesis de cual tipo de modelo funcionara mejor con una razon fundamentada, ejemplo si vemos que el comportamiento de los datos tiende a verse de manera lineal, se podria hacer un modelo lineal para ver si realmente puede encontrar el peso que tiene cada variable prediciendo algunos de los KPI.\n",
    "5) Testear el modelo\n",
    "6) Verificar resultados\n",
    "\n"
   ]
  },
  {
   "cell_type": "markdown",
   "metadata": {},
   "source": [
    "### Pregunta 3 Teorica"
   ]
  },
  {
   "cell_type": "markdown",
   "metadata": {},
   "source": [
    "\n",
    "3. (10 puntos) Usted posee la variable monto utlizado en tarjeta de credito (son tarjetas de casa comercial, como por ejemplo serıan de CENCOSUD) para una serie de 1000 clientes. Ademas, usted posee los siguientes atributos que describen a cada cliente. Salario promedio de los u ́ltimos 6 meses, edad, g ́enero, comuna donde vive, porcentaje utilizado del total del cupo de la tarjeta y antiguedad como tarjeta habiente de esta casa comercial. Proponga 3 modelos diferentes y explique que proceso llevar ́ıa a cabo para poder determinar cu ́al de estos modelos es el mejor. Explique como al tener el modelo podrıa desarrollar una estrategia comercial apoyada en este."
   ]
  },
  {
   "cell_type": "markdown",
   "metadata": {},
   "source": [
    "Entonces Para poder predecir el monto utilizado en una tarjeta comercial usaremos 3 modelos, de orden 1, de orden 2 y de orden 3, esto para intentar buscar que función es la mas adecuada para predecir la variable mencionada anteriormente.\n",
    "\n",
    "Modelo_1 : Estimamos en primer caso una regresion lineal con un polinomio de orden 1\n",
    "$y_i = \\beta_0 + \\beta_1 x_i + \\epsilon_i$\n",
    "\n",
    "Modelo_2 : Estimaremos un modelo de orden 2\n",
    "$y_i = \\beta_0 + \\beta_1 x_i + \\beta_2 x_i^2 + \\epsilon_i$\n",
    "\n",
    "Modelo_3 : Estimaremos un modelo de orden 2\n",
    "$y_i = \\beta_0 + \\beta_1 x_i + .... + \\beta_k x_i^3 + \\epsilon_i$\n",
    "\n",
    "Antes de modelar separaremos la muestra en Training Set y Test set, para asi poder hacer un crossvalidation y asi evitarnos un overfitting.\n",
    "\n",
    "Entonces luego de modelar, graficaremos las distribucciónes de los y_pred comparandolas con nuestro y, ademas en cada modelo veremos cuales son los B para cada variable y verificaremos que tengan sentido con la realidad y por ulitmo luego de eso analizaremos los ECM de cada modelo y elegiremos el modelo con mejores resultados."
   ]
  },
  {
   "cell_type": "markdown",
   "metadata": {},
   "source": [
    "### Ejercicios de Programacion en Python (50 puntos)"
   ]
  },
  {
   "cell_type": "markdown",
   "metadata": {},
   "source": [
    "### Simularemos datos para poder generar la siguiente funcion\n",
    "$y_i = 0.7 + 0.9x_i + \\epsilon_i$\n",
    "\n",
    "Donde ei se distribuye normal con media cero y desviaci´on est´andar 0.1. xi se\n",
    "distribuye normal con media 2 y desviaci´on est´andar 0.5."
   ]
  },
  {
   "cell_type": "markdown",
   "metadata": {},
   "source": [
    "(a) (5 puntos) Simule T = 1000 series de datos para x y para e y traves de esto\n",
    "obtenga 1000 series para y. Las series deben tener un largo de N = 500\n",
    "datos."
   ]
  },
  {
   "cell_type": "code",
   "execution_count": 72,
   "metadata": {},
   "outputs": [],
   "source": [
    "import numpy as np\n",
    "import matplotlib.pyplot as plt\n",
    "import pandas as pd\n",
    "np.random.seed(0)"
   ]
  },
  {
   "cell_type": "code",
   "execution_count": 82,
   "metadata": {},
   "outputs": [],
   "source": [
    "T = 1000 ## Largo de la muestra de nuestros datos simulados\n",
    "x = np.random.normal(2,0.5,T) ## genero numeros aleatorios normales con media 2 y desv est 0.5\n",
    "ϵ = np.random.normal(0,0.1,T) ##genero el error aleatorio normal con media cero y desv est 1\n",
    "y = 0.7 + 0.9*x + ϵ\n",
    "\n"
   ]
  },
  {
   "cell_type": "code",
   "execution_count": 83,
   "metadata": {},
   "outputs": [
    {
     "data": {
      "image/png": "[encoded data removed]",
      "text/plain": [
       "<Figure size 432x288 with 1 Axes>"
      ]
     },
     "metadata": {
      "needs_background": "light"
     },
     "output_type": "display_data"
    }
   ],
   "source": [
    "plt.scatter(x,y,color='black',s=5)\n",
    "plt.show()"
   ]
  },
  {
   "cell_type": "markdown",
   "metadata": {},
   "source": []
  },
  {
   "cell_type": "markdown",
   "metadata": {},
   "source": [
    "(b) (5 puntos) Con cada una de las 1000 serie generadas en a), estime el β0 y β1\n",
    "del siguiente modelo:\n",
    "\n",
    "$y_i = \\beta_0 + \\beta_1 x_i + \\epsilon_i$\n",
    "\n"
   ]
  },
  {
   "cell_type": "code",
   "execution_count": 84,
   "metadata": {},
   "outputs": [
    {
     "data": {
      "text/plain": [
       "array([[1.        , 1.23353947],\n",
       "       [1.        , 1.14401492],\n",
       "       [1.        , 2.02306753],\n",
       "       ...,\n",
       "       [1.        , 1.9037979 ],\n",
       "       [1.        , 1.39374213],\n",
       "       [1.        , 1.95970074]])"
      ]
     },
     "execution_count": 84,
     "metadata": {},
     "output_type": "execute_result"
    }
   ],
   "source": [
    "X_1 = np.column_stack([np.ones_like(x),x])\n",
    "X_1\n"
   ]
  },
  {
   "cell_type": "code",
   "execution_count": 85,
   "metadata": {},
   "outputs": [
    {
     "name": "stdout",
     "output_type": "stream",
     "text": [
      "[0.69354929 0.90230778]\n"
     ]
    }
   ],
   "source": [
    "β_1 = np.linalg.inv(X_1.T@X_1)@(X_1.T@y)\n",
    "print(β_1)\n"
   ]
  },
  {
   "cell_type": "code",
   "execution_count": 86,
   "metadata": {},
   "outputs": [
    {
     "data": {
      "text/plain": [
       "<matplotlib.collections.PathCollection at 0x7fe1a369fc70>"
      ]
     },
     "execution_count": 86,
     "metadata": {},
     "output_type": "execute_result"
    },
    {
     "data": {
      "image/png": "[encoded data removed]",
      "text/plain": [
       "<Figure size 432x288 with 1 Axes>"
      ]
     },
     "metadata": {
      "needs_background": "light"
     },
     "output_type": "display_data"
    }
   ],
   "source": [
    "plt.scatter(x,y,color='black',s=5)\n",
    "plt.scatter(x,X_1@β_1,color='red',s=5)\n"
   ]
  },
  {
   "cell_type": "code",
   "execution_count": 87,
   "metadata": {},
   "outputs": [
    {
     "data": {
      "text/plain": [
       "0.010317550389307442"
      ]
     },
     "execution_count": 87,
     "metadata": {},
     "output_type": "execute_result"
    }
   ],
   "source": [
    "ECM_1 = np.mean((y-X_1@β_1)**2)\n",
    "ECM_1"
   ]
  },
  {
   "cell_type": "markdown",
   "metadata": {},
   "source": [
    "(c) (10 puntos) En la pregunta anterior.\n",
    "1. Realice\n",
    "un kernel density estimation con las series de estos dos parametros estimados.\n",
    "Muestre ambas figuras."
   ]
  },
  {
   "cell_type": "markdown",
   "metadata": {},
   "source": [
    "Figura 1 -> Distribucion real"
   ]
  },
  {
   "cell_type": "code",
   "execution_count": 88,
   "metadata": {},
   "outputs": [
    {
     "data": {
      "image/png": "[encoded data removed]",
      "text/plain": [
       "<Figure size 1008x720 with 6 Axes>"
      ]
     },
     "metadata": {
      "needs_background": "light"
     },
     "output_type": "display_data"
    }
   ],
   "source": [
    "dataframe = pd.DataFrame(x,y, columns=[\"Y\"])\n",
    "dataframe.plot(kind ='kde',subplots= True, layout = (3,2),sharex = False,sharey=False,figsize = (14,10), )\n",
    "plt.show()"
   ]
  },
  {
   "cell_type": "markdown",
   "metadata": {},
   "source": [
    "Figura 2 -> Distribucion estimada"
   ]
  },
  {
   "cell_type": "code",
   "execution_count": 89,
   "metadata": {},
   "outputs": [
    {
     "data": {
      "image/png": "[encoded data removed]",
      "text/plain": [
       "<Figure size 1008x720 with 6 Axes>"
      ]
     },
     "metadata": {
      "needs_background": "light"
     },
     "output_type": "display_data"
    }
   ],
   "source": [
    "y_pred = X_1@β_1\n",
    "data_ypred = pd.DataFrame(x , y_pred,columns=[\"Y_Pred\"] )\n",
    "data_ypred.plot(kind ='kde',subplots= True, layout = (3,2),sharex = False,sharey=False,figsize = (14,10))\n",
    "plt.show()\n"
   ]
  },
  {
   "cell_type": "markdown",
   "metadata": {},
   "source": [
    "\n",
    "Las tres cosas que podemos analizar son:\n",
    "1. Problemas en las colas -> En donde podemos ver que no existe un gran problema, el modelo distribuye de manera normal.\n",
    "2. Existe Multimodalidad -> No se puede visualizar multimodalidad\n",
    "3. Problema de convergencia. -> No se puede apreciar, el preprocesamiento de los datos no sera extremo.\n",
    "\n",
    "\n",
    "Ademas podemos ver que la densidad de los datos del Y_pred son casi iguales a los de Yreal, esto puede mostrar que la predicción es muy cercana a la real\n"
   ]
  },
  {
   "cell_type": "markdown",
   "metadata": {},
   "source": [
    "(d) (5 puntos) ¿Que conclusion podrıa extraer respecto a la distribucion de ambos\n",
    "parametros bajo el metodo de Least Squares? ¿Como es la media de ambos\n",
    "βˆ en ambos casos? ¿Que podrıa extraer de esto?"
   ]
  },
  {
   "cell_type": "code",
   "execution_count": 90,
   "metadata": {},
   "outputs": [
    {
     "data": {
      "text/html": [
       "<table class=\"simpletable\">\n",
       "<caption>OLS Regression Results</caption>\n",
       "<tr>\n",
       "  <th>Dep. Variable:</th>            <td>y</td>        <th>  R-squared:         </th> <td>   0.947</td> \n",
       "</tr>\n",
       "<tr>\n",
       "  <th>Model:</th>                   <td>OLS</td>       <th>  Adj. R-squared:    </th> <td>   0.947</td> \n",
       "</tr>\n",
       "<tr>\n",
       "  <th>Method:</th>             <td>Least Squares</td>  <th>  F-statistic:       </th> <td>1.792e+04</td>\n",
       "</tr>\n",
       "<tr>\n",
       "  <th>Date:</th>             <td>Sat, 07 May 2022</td> <th>  Prob (F-statistic):</th>  <td>  0.00</td>  \n",
       "</tr>\n",
       "<tr>\n",
       "  <th>Time:</th>                 <td>12:57:47</td>     <th>  Log-Likelihood:    </th> <td>  868.02</td> \n",
       "</tr>\n",
       "<tr>\n",
       "  <th>No. Observations:</th>      <td>  1000</td>      <th>  AIC:               </th> <td>  -1732.</td> \n",
       "</tr>\n",
       "<tr>\n",
       "  <th>Df Residuals:</th>          <td>   998</td>      <th>  BIC:               </th> <td>  -1722.</td> \n",
       "</tr>\n",
       "<tr>\n",
       "  <th>Df Model:</th>              <td>     1</td>      <th>                     </th>     <td> </td>    \n",
       "</tr>\n",
       "<tr>\n",
       "  <th>Covariance Type:</th>      <td>nonrobust</td>    <th>                     </th>     <td> </td>    \n",
       "</tr>\n",
       "</table>\n",
       "<table class=\"simpletable\">\n",
       "<tr>\n",
       "    <td></td>       <th>coef</th>     <th>std err</th>      <th>t</th>      <th>P>|t|</th>  <th>[0.025</th>    <th>0.975]</th>  \n",
       "</tr>\n",
       "<tr>\n",
       "  <th>const</th> <td>    0.6935</td> <td>    0.014</td> <td>   50.661</td> <td> 0.000</td> <td>    0.667</td> <td>    0.720</td>\n",
       "</tr>\n",
       "<tr>\n",
       "  <th>x1</th>    <td>    0.9023</td> <td>    0.007</td> <td>  133.876</td> <td> 0.000</td> <td>    0.889</td> <td>    0.916</td>\n",
       "</tr>\n",
       "</table>\n",
       "<table class=\"simpletable\">\n",
       "<tr>\n",
       "  <th>Omnibus:</th>       <td> 3.847</td> <th>  Durbin-Watson:     </th> <td>   1.977</td>\n",
       "</tr>\n",
       "<tr>\n",
       "  <th>Prob(Omnibus):</th> <td> 0.146</td> <th>  Jarque-Bera (JB):  </th> <td>   3.786</td>\n",
       "</tr>\n",
       "<tr>\n",
       "  <th>Skew:</th>          <td> 0.115</td> <th>  Prob(JB):          </th> <td>   0.151</td>\n",
       "</tr>\n",
       "<tr>\n",
       "  <th>Kurtosis:</th>      <td> 3.196</td> <th>  Cond. No.          </th> <td>    10.7</td>\n",
       "</tr>\n",
       "</table><br/><br/>Notes:<br/>[1] Standard Errors assume that the covariance matrix of the errors is correctly specified."
      ],
      "text/plain": [
       "<class 'statsmodels.iolib.summary.Summary'>\n",
       "\"\"\"\n",
       "                            OLS Regression Results                            \n",
       "==============================================================================\n",
       "Dep. Variable:                      y   R-squared:                       0.947\n",
       "Model:                            OLS   Adj. R-squared:                  0.947\n",
       "Method:                 Least Squares   F-statistic:                 1.792e+04\n",
       "Date:                Sat, 07 May 2022   Prob (F-statistic):               0.00\n",
       "Time:                        12:57:47   Log-Likelihood:                 868.02\n",
       "No. Observations:                1000   AIC:                            -1732.\n",
       "Df Residuals:                     998   BIC:                            -1722.\n",
       "Df Model:                           1                                         \n",
       "Covariance Type:            nonrobust                                         \n",
       "==============================================================================\n",
       "                 coef    std err          t      P>|t|      [0.025      0.975]\n",
       "------------------------------------------------------------------------------\n",
       "const          0.6935      0.014     50.661      0.000       0.667       0.720\n",
       "x1             0.9023      0.007    133.876      0.000       0.889       0.916\n",
       "==============================================================================\n",
       "Omnibus:                        3.847   Durbin-Watson:                   1.977\n",
       "Prob(Omnibus):                  0.146   Jarque-Bera (JB):                3.786\n",
       "Skew:                           0.115   Prob(JB):                        0.151\n",
       "Kurtosis:                       3.196   Cond. No.                         10.7\n",
       "==============================================================================\n",
       "\n",
       "Notes:\n",
       "[1] Standard Errors assume that the covariance matrix of the errors is correctly specified.\n",
       "\"\"\""
      ]
     },
     "execution_count": 90,
     "metadata": {},
     "output_type": "execute_result"
    }
   ],
   "source": [
    "model_1 = sm.OLS(y,X_1)\n",
    "model_1 = model_1.fit()\n",
    "model_1.summary()"
   ]
  },
  {
   "cell_type": "markdown",
   "metadata": {},
   "source": [
    "Lo que podemos concluir es que el modelo logra predecir de manera super correcta los datos, la variación total de la variable Y es explicada en un 94.7%  por el modelo de regresión. \n",
    "\n",
    "Ademas viendo los density kernels podemos ver que la densidad de los datos del Y_pred son casi iguales a los de Yreal, esto puede tambien  mostrar que la predicción es muy cercana a la real.\n"
   ]
  },
  {
   "cell_type": "markdown",
   "metadata": {},
   "source": []
  },
  {
   "cell_type": "markdown",
   "metadata": {},
   "source": [
    "### 2. (10 puntos) Obtenga el punto m´ınimo de la siguiente funci´on (use el algoritmo de Gradient Descent):\n",
    "\n",
    "f(x) = ln(x) − 4x \n",
    "\n",
    "Donde ln(x) es el logaritmo natural de x. Muestre graf´ıcamente su resultado"
   ]
  },
  {
   "cell_type": "code",
   "execution_count": 12,
   "metadata": {},
   "outputs": [
    {
     "name": "stderr",
     "output_type": "stream",
     "text": [
      "/var/folders/nn/3v4rv08917318qj6dr8d_n8r0000gn/T/ipykernel_42105/3138208165.py:2: RuntimeWarning: invalid value encountered in log\n",
      "  y1 = (np.log(x) - 4*x)\n"
     ]
    },
    {
     "data": {
      "image/png": "[encoded data removed]",
      "text/plain": [
       "<Figure size 432x288 with 1 Axes>"
      ]
     },
     "metadata": {
      "needs_background": "light"
     },
     "output_type": "display_data"
    }
   ],
   "source": [
    "x = np.linspace(-1,1,50)\n",
    "y1 = (np.log(x) - 4*x)\n",
    "\n",
    "plt.plot(x,y1,color='purple')\n",
    "plt.xlabel('valor de las x')\n",
    "plt.ylabel('valor de la funcion')\n",
    "plt.show()\n"
   ]
  },
  {
   "cell_type": "code",
   "execution_count": 23,
   "metadata": {},
   "outputs": [
    {
     "name": "stdout",
     "output_type": "stream",
     "text": [
      "0.25\n"
     ]
    }
   ],
   "source": [
    "\n",
    "def f(x):\n",
    "    return np.log(x) - 4*x\n",
    "\n",
    "def grad(x):\n",
    "    return -(1/x)+4\n",
    "\n",
    "def update(x):\n",
    "    a = 0.1\n",
    "    x = x-a*grad(x)\n",
    "    return x\n",
    "\n",
    "x0 = 1/4\n",
    "for i in range(100):\n",
    "    x0 = update(x0)\n",
    "print(x0)\n"
   ]
  },
  {
   "cell_type": "code",
   "execution_count": 14,
   "metadata": {},
   "outputs": [
    {
     "data": {
      "text/plain": [
       "0.0"
      ]
     },
     "execution_count": 14,
     "metadata": {},
     "output_type": "execute_result"
    }
   ],
   "source": [
    "grad(x0)\n"
   ]
  },
  {
   "cell_type": "code",
   "execution_count": 15,
   "metadata": {},
   "outputs": [
    {
     "name": "stderr",
     "output_type": "stream",
     "text": [
      "/var/folders/nn/3v4rv08917318qj6dr8d_n8r0000gn/T/ipykernel_42105/781202476.py:2: RuntimeWarning: invalid value encountered in log\n",
      "  return np.log(x) - 4*x\n"
     ]
    },
    {
     "data": {
      "text/plain": [
       "Text(0, 0.5, 'valor de la funcion')"
      ]
     },
     "execution_count": 15,
     "metadata": {},
     "output_type": "execute_result"
    },
    {
     "data": {
      "image/png": "[encoded data removed]",
      "text/plain": [
       "<Figure size 432x288 with 1 Axes>"
      ]
     },
     "metadata": {
      "needs_background": "light"
     },
     "output_type": "display_data"
    }
   ],
   "source": [
    "\n",
    "x = np.linspace(-1,1,50)\n",
    "plt.plot(x,f(x),color='blue')\n",
    "plt.plot(x0,f(x0),color = 'red',marker = 'x')\n",
    "plt.xlabel('valor de las x')\n",
    "plt.ylabel('valor de la funcion')\n"
   ]
  },
  {
   "cell_type": "markdown",
   "metadata": {},
   "source": [
    "### 3. (15 puntos) Utilizando la base de datos de real estate provista en clases (utilice la versión final con los datos limpiados) realice lo siguiente:"
   ]
  },
  {
   "cell_type": "code",
   "execution_count": 16,
   "metadata": {},
   "outputs": [
    {
     "data": {
      "text/html": [
       "<div>\n",
       "<style scoped>\n",
       "    .dataframe tbody tr th:only-of-type {\n",
       "        vertical-align: middle;\n",
       "    }\n",
       "\n",
       "    .dataframe tbody tr th {\n",
       "        vertical-align: top;\n",
       "    }\n",
       "\n",
       "    .dataframe thead th {\n",
       "        text-align: right;\n",
       "    }\n",
       "</style>\n",
       "<table border=\"1\" class=\"dataframe\">\n",
       "  <thead>\n",
       "    <tr style=\"text-align: right;\">\n",
       "      <th></th>\n",
       "      <th>precio</th>\n",
       "      <th>superficie_total</th>\n",
       "      <th>superficie_util</th>\n",
       "      <th>dormitorios</th>\n",
       "      <th>banos</th>\n",
       "      <th>estacionamientos</th>\n",
       "      <th>tipo</th>\n",
       "    </tr>\n",
       "  </thead>\n",
       "  <tbody>\n",
       "    <tr>\n",
       "      <th>0</th>\n",
       "      <td>4871.0</td>\n",
       "      <td>126.0</td>\n",
       "      <td>115.0</td>\n",
       "      <td>4</td>\n",
       "      <td>1</td>\n",
       "      <td>1</td>\n",
       "      <td>Casa</td>\n",
       "    </tr>\n",
       "    <tr>\n",
       "      <th>1</th>\n",
       "      <td>16000.0</td>\n",
       "      <td>440.0</td>\n",
       "      <td>410.0</td>\n",
       "      <td>8</td>\n",
       "      <td>6</td>\n",
       "      <td>0</td>\n",
       "      <td>Casa</td>\n",
       "    </tr>\n",
       "    <tr>\n",
       "      <th>2</th>\n",
       "      <td>3200.0</td>\n",
       "      <td>95.0</td>\n",
       "      <td>186.0</td>\n",
       "      <td>5</td>\n",
       "      <td>3</td>\n",
       "      <td>0</td>\n",
       "      <td>Casa</td>\n",
       "    </tr>\n",
       "    <tr>\n",
       "      <th>3</th>\n",
       "      <td>6000.0</td>\n",
       "      <td>100.0</td>\n",
       "      <td>220.0</td>\n",
       "      <td>3</td>\n",
       "      <td>2</td>\n",
       "      <td>2</td>\n",
       "      <td>Casa</td>\n",
       "    </tr>\n",
       "    <tr>\n",
       "      <th>4</th>\n",
       "      <td>9897.0</td>\n",
       "      <td>394.0</td>\n",
       "      <td>140.0</td>\n",
       "      <td>3</td>\n",
       "      <td>2</td>\n",
       "      <td>2</td>\n",
       "      <td>Casa</td>\n",
       "    </tr>\n",
       "    <tr>\n",
       "      <th>...</th>\n",
       "      <td>...</td>\n",
       "      <td>...</td>\n",
       "      <td>...</td>\n",
       "      <td>...</td>\n",
       "      <td>...</td>\n",
       "      <td>...</td>\n",
       "      <td>...</td>\n",
       "    </tr>\n",
       "    <tr>\n",
       "      <th>17094</th>\n",
       "      <td>2400.0</td>\n",
       "      <td>31.0</td>\n",
       "      <td>31.0</td>\n",
       "      <td>1</td>\n",
       "      <td>1</td>\n",
       "      <td>1</td>\n",
       "      <td>Departamento</td>\n",
       "    </tr>\n",
       "    <tr>\n",
       "      <th>17095</th>\n",
       "      <td>2482.0</td>\n",
       "      <td>30.0</td>\n",
       "      <td>30.0</td>\n",
       "      <td>2</td>\n",
       "      <td>1</td>\n",
       "      <td>0</td>\n",
       "      <td>Departamento</td>\n",
       "    </tr>\n",
       "    <tr>\n",
       "      <th>17096</th>\n",
       "      <td>2048.0</td>\n",
       "      <td>31.4</td>\n",
       "      <td>31.4</td>\n",
       "      <td>1</td>\n",
       "      <td>1</td>\n",
       "      <td>0</td>\n",
       "      <td>Departamento</td>\n",
       "    </tr>\n",
       "    <tr>\n",
       "      <th>17097</th>\n",
       "      <td>2048.0</td>\n",
       "      <td>31.4</td>\n",
       "      <td>31.4</td>\n",
       "      <td>1</td>\n",
       "      <td>1</td>\n",
       "      <td>0</td>\n",
       "      <td>Departamento</td>\n",
       "    </tr>\n",
       "    <tr>\n",
       "      <th>17098</th>\n",
       "      <td>2048.0</td>\n",
       "      <td>31.4</td>\n",
       "      <td>31.4</td>\n",
       "      <td>1</td>\n",
       "      <td>1</td>\n",
       "      <td>0</td>\n",
       "      <td>Departamento</td>\n",
       "    </tr>\n",
       "  </tbody>\n",
       "</table>\n",
       "<p>17099 rows × 7 columns</p>\n",
       "</div>"
      ],
      "text/plain": [
       "        precio  superficie_total  superficie_util  dormitorios  banos  \\\n",
       "0       4871.0             126.0            115.0            4      1   \n",
       "1      16000.0             440.0            410.0            8      6   \n",
       "2       3200.0              95.0            186.0            5      3   \n",
       "3       6000.0             100.0            220.0            3      2   \n",
       "4       9897.0             394.0            140.0            3      2   \n",
       "...        ...               ...              ...          ...    ...   \n",
       "17094   2400.0              31.0             31.0            1      1   \n",
       "17095   2482.0              30.0             30.0            2      1   \n",
       "17096   2048.0              31.4             31.4            1      1   \n",
       "17097   2048.0              31.4             31.4            1      1   \n",
       "17098   2048.0              31.4             31.4            1      1   \n",
       "\n",
       "       estacionamientos          tipo  \n",
       "0                     1          Casa  \n",
       "1                     0          Casa  \n",
       "2                     0          Casa  \n",
       "3                     2          Casa  \n",
       "4                     2          Casa  \n",
       "...                 ...           ...  \n",
       "17094                 1  Departamento  \n",
       "17095                 0  Departamento  \n",
       "17096                 0  Departamento  \n",
       "17097                 0  Departamento  \n",
       "17098                 0  Departamento  \n",
       "\n",
       "[17099 rows x 7 columns]"
      ]
     },
     "execution_count": 16,
     "metadata": {},
     "output_type": "execute_result"
    }
   ],
   "source": [
    "import pandas as pd\n",
    "\n",
    "data = pd.read_csv(\"/Users/sebastianschmidtpuga/Desktop/MachineLearnig-Alexis/Bases de datos/Propiedades_chile.csv\")\n",
    "data\n"
   ]
  },
  {
   "cell_type": "markdown",
   "metadata": {},
   "source": [
    "### (a) (5 puntos) Descargue la base de datos y estime el siguiente modelo: pi = β0 + β1Nbanos + β2Ndormitorios + ei (4) Reporte los resultados del modelo en t´erminos de sus param´etros estimados y su R2. Compute su error cuadr´atico medio."
   ]
  },
  {
   "cell_type": "code",
   "execution_count": 17,
   "metadata": {},
   "outputs": [
    {
     "data": {
      "text/plain": [
       "array([[1, 1, 4],\n",
       "       [1, 6, 8],\n",
       "       [1, 3, 5],\n",
       "       [1, 2, 3]])"
      ]
     },
     "execution_count": 17,
     "metadata": {},
     "output_type": "execute_result"
    }
   ],
   "source": [
    "X = np.column_stack([np.ones_like(data.banos),data.banos,  data.dormitorios])\n",
    "X[0:4,:]"
   ]
  },
  {
   "cell_type": "code",
   "execution_count": 18,
   "metadata": {},
   "outputs": [
    {
     "name": "stdout",
     "output_type": "stream",
     "text": [
      "[-521.14077828 2842.7236182   310.66653591]\n"
     ]
    }
   ],
   "source": [
    "ß = np.linalg.inv(X.T@X)@(X.T@data.precio)\n",
    "print(ß)\n",
    "\n"
   ]
  },
  {
   "cell_type": "code",
   "execution_count": 19,
   "metadata": {},
   "outputs": [
    {
     "data": {
      "text/html": [
       "<table class=\"simpletable\">\n",
       "<caption>OLS Regression Results</caption>\n",
       "<tr>\n",
       "  <th>Dep. Variable:</th>         <td>precio</td>      <th>  R-squared:         </th>  <td>   0.489</td>  \n",
       "</tr>\n",
       "<tr>\n",
       "  <th>Model:</th>                   <td>OLS</td>       <th>  Adj. R-squared:    </th>  <td>   0.489</td>  \n",
       "</tr>\n",
       "<tr>\n",
       "  <th>Method:</th>             <td>Least Squares</td>  <th>  F-statistic:       </th>  <td>   8181.</td>  \n",
       "</tr>\n",
       "<tr>\n",
       "  <th>Date:</th>             <td>Fri, 06 May 2022</td> <th>  Prob (F-statistic):</th>   <td>  0.00</td>   \n",
       "</tr>\n",
       "<tr>\n",
       "  <th>Time:</th>                 <td>13:43:26</td>     <th>  Log-Likelihood:    </th> <td>-1.6567e+05</td>\n",
       "</tr>\n",
       "<tr>\n",
       "  <th>No. Observations:</th>      <td> 17099</td>      <th>  AIC:               </th>  <td>3.313e+05</td> \n",
       "</tr>\n",
       "<tr>\n",
       "  <th>Df Residuals:</th>          <td> 17096</td>      <th>  BIC:               </th>  <td>3.314e+05</td> \n",
       "</tr>\n",
       "<tr>\n",
       "  <th>Df Model:</th>              <td>     2</td>      <th>                     </th>      <td> </td>     \n",
       "</tr>\n",
       "<tr>\n",
       "  <th>Covariance Type:</th>      <td>nonrobust</td>    <th>                     </th>      <td> </td>     \n",
       "</tr>\n",
       "</table>\n",
       "<table class=\"simpletable\">\n",
       "<tr>\n",
       "    <td></td>       <th>coef</th>     <th>std err</th>      <th>t</th>      <th>P>|t|</th>  <th>[0.025</th>    <th>0.975]</th>  \n",
       "</tr>\n",
       "<tr>\n",
       "  <th>const</th> <td> -521.1408</td> <td>   77.661</td> <td>   -6.710</td> <td> 0.000</td> <td> -673.364</td> <td> -368.917</td>\n",
       "</tr>\n",
       "<tr>\n",
       "  <th>x1</th>    <td> 2842.7236</td> <td>   34.493</td> <td>   82.415</td> <td> 0.000</td> <td> 2775.114</td> <td> 2910.333</td>\n",
       "</tr>\n",
       "<tr>\n",
       "  <th>x2</th>    <td>  310.6665</td> <td>   29.392</td> <td>   10.570</td> <td> 0.000</td> <td>  253.055</td> <td>  368.278</td>\n",
       "</tr>\n",
       "</table>\n",
       "<table class=\"simpletable\">\n",
       "<tr>\n",
       "  <th>Omnibus:</th>       <td>4019.055</td> <th>  Durbin-Watson:     </th> <td>   1.409</td> \n",
       "</tr>\n",
       "<tr>\n",
       "  <th>Prob(Omnibus):</th>  <td> 0.000</td>  <th>  Jarque-Bera (JB):  </th> <td>22880.052</td>\n",
       "</tr>\n",
       "<tr>\n",
       "  <th>Skew:</th>           <td> 1.010</td>  <th>  Prob(JB):          </th> <td>    0.00</td> \n",
       "</tr>\n",
       "<tr>\n",
       "  <th>Kurtosis:</th>       <td> 8.294</td>  <th>  Cond. No.          </th> <td>    12.3</td> \n",
       "</tr>\n",
       "</table><br/><br/>Notes:<br/>[1] Standard Errors assume that the covariance matrix of the errors is correctly specified."
      ],
      "text/plain": [
       "<class 'statsmodels.iolib.summary.Summary'>\n",
       "\"\"\"\n",
       "                            OLS Regression Results                            \n",
       "==============================================================================\n",
       "Dep. Variable:                 precio   R-squared:                       0.489\n",
       "Model:                            OLS   Adj. R-squared:                  0.489\n",
       "Method:                 Least Squares   F-statistic:                     8181.\n",
       "Date:                Fri, 06 May 2022   Prob (F-statistic):               0.00\n",
       "Time:                        13:43:26   Log-Likelihood:            -1.6567e+05\n",
       "No. Observations:               17099   AIC:                         3.313e+05\n",
       "Df Residuals:                   17096   BIC:                         3.314e+05\n",
       "Df Model:                           2                                         \n",
       "Covariance Type:            nonrobust                                         \n",
       "==============================================================================\n",
       "                 coef    std err          t      P>|t|      [0.025      0.975]\n",
       "------------------------------------------------------------------------------\n",
       "const       -521.1408     77.661     -6.710      0.000    -673.364    -368.917\n",
       "x1          2842.7236     34.493     82.415      0.000    2775.114    2910.333\n",
       "x2           310.6665     29.392     10.570      0.000     253.055     368.278\n",
       "==============================================================================\n",
       "Omnibus:                     4019.055   Durbin-Watson:                   1.409\n",
       "Prob(Omnibus):                  0.000   Jarque-Bera (JB):            22880.052\n",
       "Skew:                           1.010   Prob(JB):                         0.00\n",
       "Kurtosis:                       8.294   Cond. No.                         12.3\n",
       "==============================================================================\n",
       "\n",
       "Notes:\n",
       "[1] Standard Errors assume that the covariance matrix of the errors is correctly specified.\n",
       "\"\"\""
      ]
     },
     "execution_count": 19,
     "metadata": {},
     "output_type": "execute_result"
    }
   ],
   "source": [
    "import statsmodels.api as sm\n",
    "model_a = sm.OLS(data.precio,X)\n",
    "model_a = model_a.fit()\n",
    "model_a.summary()"
   ]
  },
  {
   "cell_type": "markdown",
   "metadata": {},
   "source": [
    "Reporte los resultados del modelo en tEerminos de sus parametros estimadosy su R2\n",
    ". Compute su error cuadratico medio.\n",
    "\n",
    "\n",
    "B0 = -521.1408\t\n",
    "\n",
    "B1  = 2842.7236\n",
    "\n",
    "B2 = 310.6665\t\n",
    "\n",
    "R2 = 0.489 / ECM = 0.489\n"
   ]
  },
  {
   "cell_type": "code",
   "execution_count": 20,
   "metadata": {},
   "outputs": [
    {
     "data": {
      "text/plain": [
       "array([ 571.16358872, 1792.11893113, -496.16867173,   31.6831379 ])"
      ]
     },
     "execution_count": 20,
     "metadata": {},
     "output_type": "execute_result"
    }
   ],
   "source": [
    "X2 = np.column_stack([np.ones_like(data.banos), data.banos,  data.dormitorios, data.superficie_util])\n",
    "ß2 = np.linalg.inv(X2.T@X2)@(X2.T@data.precio)\n",
    "\n",
    "ß2"
   ]
  },
  {
   "cell_type": "code",
   "execution_count": 21,
   "metadata": {},
   "outputs": [
    {
     "data": {
      "text/html": [
       "<table class=\"simpletable\">\n",
       "<caption>OLS Regression Results</caption>\n",
       "<tr>\n",
       "  <th>Dep. Variable:</th>         <td>precio</td>      <th>  R-squared:         </th>  <td>   0.611</td>  \n",
       "</tr>\n",
       "<tr>\n",
       "  <th>Model:</th>                   <td>OLS</td>       <th>  Adj. R-squared:    </th>  <td>   0.611</td>  \n",
       "</tr>\n",
       "<tr>\n",
       "  <th>Method:</th>             <td>Least Squares</td>  <th>  F-statistic:       </th>  <td>   8961.</td>  \n",
       "</tr>\n",
       "<tr>\n",
       "  <th>Date:</th>             <td>Fri, 06 May 2022</td> <th>  Prob (F-statistic):</th>   <td>  0.00</td>   \n",
       "</tr>\n",
       "<tr>\n",
       "  <th>Time:</th>                 <td>13:43:27</td>     <th>  Log-Likelihood:    </th> <td>-1.6333e+05</td>\n",
       "</tr>\n",
       "<tr>\n",
       "  <th>No. Observations:</th>      <td> 17099</td>      <th>  AIC:               </th>  <td>3.267e+05</td> \n",
       "</tr>\n",
       "<tr>\n",
       "  <th>Df Residuals:</th>          <td> 17095</td>      <th>  BIC:               </th>  <td>3.267e+05</td> \n",
       "</tr>\n",
       "<tr>\n",
       "  <th>Df Model:</th>              <td>     3</td>      <th>                     </th>      <td> </td>     \n",
       "</tr>\n",
       "<tr>\n",
       "  <th>Covariance Type:</th>      <td>nonrobust</td>    <th>                     </th>      <td> </td>     \n",
       "</tr>\n",
       "</table>\n",
       "<table class=\"simpletable\">\n",
       "<tr>\n",
       "    <td></td>       <th>coef</th>     <th>std err</th>      <th>t</th>      <th>P>|t|</th>  <th>[0.025</th>    <th>0.975]</th>  \n",
       "</tr>\n",
       "<tr>\n",
       "  <th>const</th> <td>  571.1636</td> <td>   69.358</td> <td>    8.235</td> <td> 0.000</td> <td>  435.215</td> <td>  707.112</td>\n",
       "</tr>\n",
       "<tr>\n",
       "  <th>x1</th>    <td> 1792.1189</td> <td>   33.324</td> <td>   53.779</td> <td> 0.000</td> <td> 1726.801</td> <td> 1857.437</td>\n",
       "</tr>\n",
       "<tr>\n",
       "  <th>x2</th>    <td> -496.1687</td> <td>   27.899</td> <td>  -17.784</td> <td> 0.000</td> <td> -550.854</td> <td> -441.484</td>\n",
       "</tr>\n",
       "<tr>\n",
       "  <th>x3</th>    <td>   31.6831</td> <td>    0.432</td> <td>   73.321</td> <td> 0.000</td> <td>   30.836</td> <td>   32.530</td>\n",
       "</tr>\n",
       "</table>\n",
       "<table class=\"simpletable\">\n",
       "<tr>\n",
       "  <th>Omnibus:</th>       <td>3665.642</td> <th>  Durbin-Watson:     </th> <td>   1.311</td> \n",
       "</tr>\n",
       "<tr>\n",
       "  <th>Prob(Omnibus):</th>  <td> 0.000</td>  <th>  Jarque-Bera (JB):  </th> <td>26540.885</td>\n",
       "</tr>\n",
       "<tr>\n",
       "  <th>Skew:</th>           <td> 0.841</td>  <th>  Prob(JB):          </th> <td>    0.00</td> \n",
       "</tr>\n",
       "<tr>\n",
       "  <th>Kurtosis:</th>       <td> 8.867</td>  <th>  Cond. No.          </th> <td>    449.</td> \n",
       "</tr>\n",
       "</table><br/><br/>Notes:<br/>[1] Standard Errors assume that the covariance matrix of the errors is correctly specified."
      ],
      "text/plain": [
       "<class 'statsmodels.iolib.summary.Summary'>\n",
       "\"\"\"\n",
       "                            OLS Regression Results                            \n",
       "==============================================================================\n",
       "Dep. Variable:                 precio   R-squared:                       0.611\n",
       "Model:                            OLS   Adj. R-squared:                  0.611\n",
       "Method:                 Least Squares   F-statistic:                     8961.\n",
       "Date:                Fri, 06 May 2022   Prob (F-statistic):               0.00\n",
       "Time:                        13:43:27   Log-Likelihood:            -1.6333e+05\n",
       "No. Observations:               17099   AIC:                         3.267e+05\n",
       "Df Residuals:                   17095   BIC:                         3.267e+05\n",
       "Df Model:                           3                                         \n",
       "Covariance Type:            nonrobust                                         \n",
       "==============================================================================\n",
       "                 coef    std err          t      P>|t|      [0.025      0.975]\n",
       "------------------------------------------------------------------------------\n",
       "const        571.1636     69.358      8.235      0.000     435.215     707.112\n",
       "x1          1792.1189     33.324     53.779      0.000    1726.801    1857.437\n",
       "x2          -496.1687     27.899    -17.784      0.000    -550.854    -441.484\n",
       "x3            31.6831      0.432     73.321      0.000      30.836      32.530\n",
       "==============================================================================\n",
       "Omnibus:                     3665.642   Durbin-Watson:                   1.311\n",
       "Prob(Omnibus):                  0.000   Jarque-Bera (JB):            26540.885\n",
       "Skew:                           0.841   Prob(JB):                         0.00\n",
       "Kurtosis:                       8.867   Cond. No.                         449.\n",
       "==============================================================================\n",
       "\n",
       "Notes:\n",
       "[1] Standard Errors assume that the covariance matrix of the errors is correctly specified.\n",
       "\"\"\""
      ]
     },
     "execution_count": 21,
     "metadata": {},
     "output_type": "execute_result"
    }
   ],
   "source": [
    "model_b = sm.OLS(data.precio,X2)\n",
    "model_b = model_b.fit()\n",
    "model_b.summary()"
   ]
  },
  {
   "cell_type": "markdown",
   "metadata": {},
   "source": [
    "Reporte los resultados del modelo en t´erminos de sus param´etros estimados\n",
    "y su R2\n",
    ". Compute su error cuadratico medio.\n",
    "\n",
    "B0 = 571.1636\t\n",
    "\n",
    "B1  = 1792.1189\t\n",
    "\n",
    "B2 = -496.1687\n",
    "\n",
    "R2 = 0.611\n"
   ]
  },
  {
   "cell_type": "markdown",
   "metadata": {},
   "source": [
    "\n",
    "¿Como cambian el β1 y β2 al compararlos con el modelo anterior? ¿Que\n",
    "modelo elegirıa como el mejor? ¿cual podrıa ser el error de basar su eleccion\n",
    "en el proceso actual?\n",
    "\n"
   ]
  },
  {
   "cell_type": "markdown",
   "metadata": {},
   "source": [
    "El R^2 aumenta, esto siginifica que gracias a agregar una variable extra, al modelo logra explicar de mejor manera los datos -> Mas variabilidad. \n",
    "\n",
    "La variable explicativa 1 bajo bastante, antes por cada baño aumentaba 2842.7 UF y ahora baja a 1792 UF por cada baño agregado, algo que puede tener un poco mas de logica pero aun sigue siendo alto 1792 UF extra al valor por un Baño.\n",
    "\n",
    "La variable explicativa 2 (numeor de habitaciones en la casa) Al incluir una variable extra, bajo de 310 a -496.1687, lo que es bastante errado, dado que no tiene mucha logica que mientras mas abitaciones una casa la casa o departamento tenga, mas bajo el valor de la misma.\n",
    "\n",
    "Entonces bajo esos Hechos, el modelo que elegiria entre estos dos seria el primero, aunque el rcuadrado sea menor y el modelo tenga menos variables explicativas, el modelo 2 teniendo el beta2 negativa en mi opinion es muy grave como para considerarlo.\n",
    "\n",
    "Asi mismo, estos modelos tienen un problema de base, el cual seria se estan entrenando datos completa, osea falta de Cross Validation.v"
   ]
  }
 ],
 "metadata": {
  "interpreter": {
   "hash": "a2b75d607e69e1eafe8e445dd0e15dbb8f5f0b9428307d280f5a3dc4798940b4"
  },
  "kernelspec": {
   "display_name": "Python 3.9.7 ('base')",
   "language": "python",
   "name": "python3"
  },
  "language_info": {
   "codemirror_mode": {
    "name": "ipython",
    "version": 3
   },
   "file_extension": ".py",
   "mimetype": "text/x-python",
   "name": "python",
   "nbconvert_exporter": "python",
   "pygments_lexer": "ipython3",
   "version": "3.9.7"
  },
  "orig_nbformat": 4
 },
 "nbformat": 4,
 "nbformat_minor": 2
}
